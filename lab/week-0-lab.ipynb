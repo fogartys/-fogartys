{
 "cells": [
  {
   "cell_type": "markdown",
   "metadata": {
    "deletable": false,
    "editable": true
   },
   "source": [
    "# Lab: _The Maltese Python_\n",
    "\n",
    "<div class=\"alert alert-block alert-warning\">\n",
    "    <p>This activity only works if we're in our JupyterLab environment. If you haven't finished the <a href = '../activities/activity-1-github-clone.md'>\"Cloning\" a repository</a> worksheet, please do so now.\n",
    "</div>\n",
    "\n",
    "---\n",
    "\n",
    "<img src = \"https://cs.allegheny.edu/sites/dluman/cmpsc100/cmpsc-100-maltese-python.png\">\n",
    "\n",
    "## Overview\n",
    "\n",
    "> In 2021 a professor attempted to boggle their students' minds by sending them a game in which they hid a Golden Python whose scales were conjured from digital text. An enterprising computer system seized this priceless token and the fate of the Maltese Python remains a mystery to this day...\n",
    " \n",
    "For no reason whatsoever, you find yourself at the door to the very mansion where rumors place the whereabouts of the Maltese Python. (Is there really any benefit to asking why you find yourself here?)\n",
    " \n",
    "Of course, however, this is a digital mansion made of folders located in the `/mansion` file system and, as you would expect, this activity is meant to help you practice commands like: \n",
    " \n",
    "* `cd`\n",
    "* `ls`\n",
    "* `pwd`\n",
    "\n",
    "You will use these commands to go from room to room in the mansion, keeping an eye out for secret passages (**HINT**: typing `secretpassages` at any time _may_ help you).When you think you 've found the python itself (you'll know when you do), type `claim` to steal it away (to your home directory; think `~`).\n",
    " \n",
    "Keep the mansion map handy so that as you `cd` and `pwd` through the directory structure.\n",
    "\n",
    "### Special note\n",
    "\n",
    "`secretpassage` and `claim` _are not_ traditional terminal commands. They're made up for this exercise. Not real, but no less fun.\n",
    "\n",
    "## Mansion map\n",
    "\n",
    "```\n",
    "[GARRET]\n",
    "    \\     [BALCONY]                                 [LARDER]\n",
    "     \\      /                                         /\n",
    "    [TERRARIUM] [LIBRARY]     [GALLERY]  [CELLAR]    /\n",
    "             \\    |              |          |       /    \n",
    "              \\   |  ------------           |      /\n",
    "               \\  |  /                      |     /\n",
    "            [CONSERVATORY]                  |    /\n",
    "                  |              -------[KITCHEN]\n",
    "                  |              |\n",
    "               [BALLROOM]   [DININGROOM]  \n",
    "                         \\ /\n",
    "                          |\n",
    "                   [GRAND STAIRCASE]\n",
    "                          |\n",
    "                [PARLOR]  | [DRAWING ROOM]\n",
    "                      \\   |   /\n",
    "                       \\  |  /\n",
    "                        \\ | /\n",
    "                         \\|/\n",
    "                          |\n",
    "                          |\n",
    "                       [FOYER] <---- You start here\n",
    "```\n",
    "\n",
    "## Requirements\n",
    "\n",
    "* `the_maltese_python!` file is `claim`ed\n",
    "* The file (`the_maltese_python!`) is in the `lab` folder of your assignment repository\n",
    "  * The `claim` command performs this action for you\n",
    "* A completed:\n",
    "  * Reflection completed in the [writing/reflection.md](writing/reflection.md) file\n",
    "\n",
    "## Command chart\n",
    "\n",
    "Here's a table containing all of the commands that you should use to complete this exercise and some examples of each:\n",
    "\n",
    "|Command|Full name|Paraphrase|Examples|\n",
    "|-------|---------|----------|--------|\n",
    "|`cd`|**C**hange **D**irectory|I would like to go...|`cd ..` (down one level)|\n",
    "|`ls`|**L**i**s**t|What can I see?|`ls` (list current directory)|\n",
    "|`pwd`|**P**ath to **W**orking **D**irectory|Where am I?|`pwd` (gets current directory)|\n",
    "\n",
    "## Tips\n",
    "\n",
    "* Keep in mind that while `secretpassage` _may_ help you, it equally _may not_\n",
    "* Practice `cd`, `pwd`, and `ls` liberally -- you won't hurt anything\n",
    "* If you're stuck, use the `pwd` command and consult the [mansion map](#Mansion-map)\n",
    "* Don't forget to `claim` the real Maltese Python when you find it!\n",
    "\n",
    "<div class=\"alert alert-block alert-danger\">\n",
    "    You must find the python using your <b>terminal</b>.\n",
    "</div>\n",
    "\n",
    "### When you're ready"
   ]
  },
  {
   "cell_type": "code",
   "execution_count": 2,
   "metadata": {
    "jupyter": {
     "source_hidden": true
    },
    "tags": []
   },
   "outputs": [
    {
     "data": {
      "text/html": [
       "<a href=\"\", data-commandlinker-command=\"terminal:create-new\">Click here to open a terminal.</a>"
      ],
      "text/plain": [
       "<IPython.core.display.HTML object>"
      ]
     },
     "execution_count": 2,
     "metadata": {},
     "output_type": "execute_result"
    }
   ],
   "source": [
    "from IPython.display import HTML\n",
    "HTML('<a href=\"\", data-commandlinker-command=\"terminal:create-new\">Click here to open a terminal.</a>')"
   ]
  },
  {
   "cell_type": "markdown",
   "metadata": {},
   "source": [
    "* Use `cd /mansion` as your first command to access the Mansion\n",
    "\n",
    "## A secret quest\n",
    "<div class=\"alert alert-block alert-info\">\n",
    "    <p>Somewhere in the mansion lies a secret password. Find it and communicate it to your instructor in a clandestine <strong>NON-DIGITAL</strong> way (i.e. it must be spoken aloud) to claim a prize.</p>\n",
    "</div>"
   ]
  },
  {
   "cell_type": "markdown",
   "metadata": {
    "tags": []
   },
   "source": [
    "## Display your trophy! Type the Markdown required to display `cage/the_maltese_python.png` in the space below using an image tag:"
   ]
  },
  {
   "cell_type": "markdown",
   "metadata": {},
   "source": [
    "![IT'S A FAKE!](cage/the_maltese_python.png)"
   ]
  }
 ],
 "metadata": {
  "kernelspec": {
   "display_name": "Python 3",
   "language": "python",
   "name": "python3"
  },
  "language_info": {
   "codemirror_mode": {
    "name": "ipython",
    "version": 3
   },
   "file_extension": ".py",
   "mimetype": "text/x-python",
   "name": "python",
   "nbconvert_exporter": "python",
   "pygments_lexer": "ipython3",
   "version": "3.8.10"
  }
 },
 "nbformat": 4,
 "nbformat_minor": 4
}
